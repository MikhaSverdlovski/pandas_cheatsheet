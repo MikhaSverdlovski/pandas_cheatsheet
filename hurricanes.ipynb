{
 "cells": [
  {
   "cell_type": "markdown",
   "source": [
    "Сначала импортируем пандас и подгрузим CSV"
   ],
   "metadata": {
    "collapsed": false
   },
   "id": "9f0c94fe6227966d"
  },
  {
   "cell_type": "code",
   "outputs": [],
   "source": [
    "import pandas as pd\n",
    "a = pd.read_csv(\"csv_ex/hurricanes.csv\")"
   ],
   "metadata": {
    "collapsed": true,
    "ExecuteTime": {
     "end_time": "2024-08-13T11:47:41.478894582Z",
     "start_time": "2024-08-13T11:47:41.230859927Z"
    }
   },
   "id": "initial_id",
   "execution_count": 3
  },
  {
   "cell_type": "code",
   "outputs": [],
   "source": [],
   "metadata": {
    "collapsed": false
   },
   "id": "2f8692d8fd60b6b8"
  }
 ],
 "metadata": {
  "kernelspec": {
   "display_name": "Python 3",
   "language": "python",
   "name": "python3"
  },
  "language_info": {
   "codemirror_mode": {
    "name": "ipython",
    "version": 2
   },
   "file_extension": ".py",
   "mimetype": "text/x-python",
   "name": "python",
   "nbconvert_exporter": "python",
   "pygments_lexer": "ipython2",
   "version": "2.7.6"
  }
 },
 "nbformat": 4,
 "nbformat_minor": 5
}
