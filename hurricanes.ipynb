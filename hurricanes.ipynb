{
 "cells": [
  {
   "cell_type": "markdown",
   "source": [
    "Сначала импортируем пандас и подгрузим CSV\n",
    "\n",
    "https://habr.com/ru/companies/ruvds/articles/494720/"
   ],
   "metadata": {
    "collapsed": false
   },
   "id": "9f0c94fe6227966d"
  },
  {
   "cell_type": "code",
   "outputs": [],
   "source": [
    "import pandas as pd\n",
    "dataset = pd.read_csv(\"csv_ex/hurricanes.csv\")"
   ],
   "metadata": {
    "collapsed": true,
    "ExecuteTime": {
     "end_time": "2024-08-16T10:19:10.979455404Z",
     "start_time": "2024-08-16T10:19:10.747316047Z"
    }
   },
   "id": "initial_id",
   "execution_count": 1
  },
  {
   "cell_type": "code",
   "outputs": [],
   "source": [
    "# Копирование датафрейма\n",
    "dataset_copy = dataset.copy(deep=True)"
   ],
   "metadata": {
    "collapsed": false,
    "ExecuteTime": {
     "end_time": "2024-08-16T10:19:11.001358065Z",
     "start_time": "2024-08-16T10:19:10.979619716Z"
    }
   },
   "id": "2d9268baa7e0c88f",
   "execution_count": 2
  },
  {
   "cell_type": "code",
   "outputs": [
    {
     "data": {
      "text/plain": "  Month   \"Average\"   \"2005\"   \"2006\"   \"2007\"   \"2008\"   \"2009\"   \"2010\"  \\\n0   May         0.1        0        0        1        1        0        0   \n1   Jun         0.5        2        1        1        0        0        1   \n2   Jul         0.7        5        1        1        2        0        1   \n3   Aug         2.3        6        3        2        4        4        4   \n4   Sep         3.5        6        4        7        4        2        8   \n\n    \"2011\"   \"2012\"   \"2013\"   \"2014\"   \"2015\"  \n0        0        2        0        0        0  \n1        1        2        2        0        1  \n2        3        0        2        2        1  \n3        7        8        2        2        3  \n4        5        2        5        2        5  ",
      "text/html": "<div>\n<style scoped>\n    .dataframe tbody tr th:only-of-type {\n        vertical-align: middle;\n    }\n\n    .dataframe tbody tr th {\n        vertical-align: top;\n    }\n\n    .dataframe thead th {\n        text-align: right;\n    }\n</style>\n<table border=\"1\" class=\"dataframe\">\n  <thead>\n    <tr style=\"text-align: right;\">\n      <th></th>\n      <th>Month</th>\n      <th>\"Average\"</th>\n      <th>\"2005\"</th>\n      <th>\"2006\"</th>\n      <th>\"2007\"</th>\n      <th>\"2008\"</th>\n      <th>\"2009\"</th>\n      <th>\"2010\"</th>\n      <th>\"2011\"</th>\n      <th>\"2012\"</th>\n      <th>\"2013\"</th>\n      <th>\"2014\"</th>\n      <th>\"2015\"</th>\n    </tr>\n  </thead>\n  <tbody>\n    <tr>\n      <th>0</th>\n      <td>May</td>\n      <td>0.1</td>\n      <td>0</td>\n      <td>0</td>\n      <td>1</td>\n      <td>1</td>\n      <td>0</td>\n      <td>0</td>\n      <td>0</td>\n      <td>2</td>\n      <td>0</td>\n      <td>0</td>\n      <td>0</td>\n    </tr>\n    <tr>\n      <th>1</th>\n      <td>Jun</td>\n      <td>0.5</td>\n      <td>2</td>\n      <td>1</td>\n      <td>1</td>\n      <td>0</td>\n      <td>0</td>\n      <td>1</td>\n      <td>1</td>\n      <td>2</td>\n      <td>2</td>\n      <td>0</td>\n      <td>1</td>\n    </tr>\n    <tr>\n      <th>2</th>\n      <td>Jul</td>\n      <td>0.7</td>\n      <td>5</td>\n      <td>1</td>\n      <td>1</td>\n      <td>2</td>\n      <td>0</td>\n      <td>1</td>\n      <td>3</td>\n      <td>0</td>\n      <td>2</td>\n      <td>2</td>\n      <td>1</td>\n    </tr>\n    <tr>\n      <th>3</th>\n      <td>Aug</td>\n      <td>2.3</td>\n      <td>6</td>\n      <td>3</td>\n      <td>2</td>\n      <td>4</td>\n      <td>4</td>\n      <td>4</td>\n      <td>7</td>\n      <td>8</td>\n      <td>2</td>\n      <td>2</td>\n      <td>3</td>\n    </tr>\n    <tr>\n      <th>4</th>\n      <td>Sep</td>\n      <td>3.5</td>\n      <td>6</td>\n      <td>4</td>\n      <td>7</td>\n      <td>4</td>\n      <td>2</td>\n      <td>8</td>\n      <td>5</td>\n      <td>2</td>\n      <td>5</td>\n      <td>2</td>\n      <td>5</td>\n    </tr>\n  </tbody>\n</table>\n</div>"
     },
     "execution_count": 3,
     "metadata": {},
     "output_type": "execute_result"
    }
   ],
   "source": [
    "# Получение N записей с начала или конца ДФ\n",
    "dataset_copy.tail(10)\n",
    "dataset_copy.head(5)\n"
   ],
   "metadata": {
    "collapsed": false,
    "ExecuteTime": {
     "end_time": "2024-08-16T10:19:11.030088059Z",
     "start_time": "2024-08-16T10:19:10.982736580Z"
    }
   },
   "id": "223949919746e478",
   "execution_count": 3
  },
  {
   "cell_type": "code",
   "outputs": [
    {
     "data": {
      "text/plain": "8"
     },
     "execution_count": 4,
     "metadata": {},
     "output_type": "execute_result"
    }
   ],
   "source": [
    "# Подсчёт количества строк в датафрейме\n",
    "len(dataset_copy)"
   ],
   "metadata": {
    "collapsed": false,
    "ExecuteTime": {
     "end_time": "2024-08-16T10:19:11.030732655Z",
     "start_time": "2024-08-16T10:19:11.006037166Z"
    }
   },
   "id": "447951f63c8e7515",
   "execution_count": 4
  },
  {
   "cell_type": "code",
   "outputs": [
    {
     "data": {
      "text/plain": "array([0, 2, 5, 6, 8, 3, 1])"
     },
     "execution_count": 5,
     "metadata": {},
     "output_type": "execute_result"
    }
   ],
   "source": [
    "# Подсчёт количества уникальных значений в столбце\n",
    "dataset_copy[' \"2005\"'].unique()"
   ],
   "metadata": {
    "collapsed": false,
    "ExecuteTime": {
     "end_time": "2024-08-16T10:19:11.084824727Z",
     "start_time": "2024-08-16T10:19:11.019631327Z"
    }
   },
   "id": "51f0d393e43538f2",
   "execution_count": 5
  },
  {
   "cell_type": "code",
   "outputs": [
    {
     "name": "stdout",
     "output_type": "stream",
     "text": [
      "<class 'pandas.core.frame.DataFrame'>\n",
      "RangeIndex: 8 entries, 0 to 7\n",
      "Data columns (total 13 columns):\n",
      " #   Column      Non-Null Count  Dtype  \n",
      "---  ------      --------------  -----  \n",
      " 0   Month       8 non-null      object \n",
      " 1    \"Average\"  8 non-null      float64\n",
      " 2    \"2005\"     8 non-null      int64  \n",
      " 3    \"2006\"     8 non-null      int64  \n",
      " 4    \"2007\"     8 non-null      int64  \n",
      " 5    \"2008\"     8 non-null      int64  \n",
      " 6    \"2009\"     8 non-null      int64  \n",
      " 7    \"2010\"     8 non-null      int64  \n",
      " 8    \"2011\"     8 non-null      int64  \n",
      " 9    \"2012\"     8 non-null      int64  \n",
      " 10   \"2013\"     8 non-null      int64  \n",
      " 11   \"2014\"     8 non-null      int64  \n",
      " 12   \"2015\"     8 non-null      int64  \n",
      "dtypes: float64(1), int64(11), object(1)\n",
      "memory usage: 960.0+ bytes\n"
     ]
    }
   ],
   "source": [
    "# Получение сведений о датафрейме\n",
    "dataset_copy.info()"
   ],
   "metadata": {
    "collapsed": false,
    "ExecuteTime": {
     "end_time": "2024-08-16T10:19:11.152316293Z",
     "start_time": "2024-08-16T10:19:11.036350882Z"
    }
   },
   "id": "3e0ff3e8583d622a",
   "execution_count": 6
  },
  {
   "cell_type": "code",
   "outputs": [
    {
     "data": {
      "text/plain": "       \"Average\"    \"2005\"    \"2006\"    \"2007\"    \"2008\"    \"2009\"    \"2010\"  \\\ncount   8.000000  8.000000  8.000000  8.000000  8.000000  8.000000  8.000000   \nmean    1.200000  3.875000  1.125000  1.750000  1.875000  1.125000  2.375000   \nstd     1.254705  2.799872  1.552648  2.187628  1.642081  1.457738  2.973094   \nmin     0.000000  0.000000  0.000000  0.000000  0.000000  0.000000  0.000000   \n25%     0.400000  1.750000  0.000000  1.000000  0.750000  0.000000  0.000000   \n50%     0.600000  4.000000  0.500000  1.000000  1.500000  0.500000  1.000000   \n75%     2.075000  6.000000  1.500000  1.250000  3.250000  2.000000  4.250000   \nmax     3.500000  8.000000  4.000000  7.000000  4.000000  4.000000  8.000000   \n\n        \"2011\"    \"2012\"    \"2013\"    \"2014\"    \"2015\"  \ncount  8.00000  8.000000  8.000000  8.000000  8.000000  \nmean   2.25000  2.375000  1.750000  1.125000  1.500000  \nstd    2.54951  2.825269  1.581139  1.246423  1.690309  \nmin    0.00000  0.000000  0.000000  0.000000  0.000000  \n25%    0.75000  0.000000  0.750000  0.000000  0.750000  \n50%    1.00000  2.000000  2.000000  1.000000  1.000000  \n75%    3.50000  2.750000  2.000000  2.000000  1.500000  \nmax    7.00000  8.000000  5.000000  3.000000  5.000000  ",
      "text/html": "<div>\n<style scoped>\n    .dataframe tbody tr th:only-of-type {\n        vertical-align: middle;\n    }\n\n    .dataframe tbody tr th {\n        vertical-align: top;\n    }\n\n    .dataframe thead th {\n        text-align: right;\n    }\n</style>\n<table border=\"1\" class=\"dataframe\">\n  <thead>\n    <tr style=\"text-align: right;\">\n      <th></th>\n      <th>\"Average\"</th>\n      <th>\"2005\"</th>\n      <th>\"2006\"</th>\n      <th>\"2007\"</th>\n      <th>\"2008\"</th>\n      <th>\"2009\"</th>\n      <th>\"2010\"</th>\n      <th>\"2011\"</th>\n      <th>\"2012\"</th>\n      <th>\"2013\"</th>\n      <th>\"2014\"</th>\n      <th>\"2015\"</th>\n    </tr>\n  </thead>\n  <tbody>\n    <tr>\n      <th>count</th>\n      <td>8.000000</td>\n      <td>8.000000</td>\n      <td>8.000000</td>\n      <td>8.000000</td>\n      <td>8.000000</td>\n      <td>8.000000</td>\n      <td>8.000000</td>\n      <td>8.00000</td>\n      <td>8.000000</td>\n      <td>8.000000</td>\n      <td>8.000000</td>\n      <td>8.000000</td>\n    </tr>\n    <tr>\n      <th>mean</th>\n      <td>1.200000</td>\n      <td>3.875000</td>\n      <td>1.125000</td>\n      <td>1.750000</td>\n      <td>1.875000</td>\n      <td>1.125000</td>\n      <td>2.375000</td>\n      <td>2.25000</td>\n      <td>2.375000</td>\n      <td>1.750000</td>\n      <td>1.125000</td>\n      <td>1.500000</td>\n    </tr>\n    <tr>\n      <th>std</th>\n      <td>1.254705</td>\n      <td>2.799872</td>\n      <td>1.552648</td>\n      <td>2.187628</td>\n      <td>1.642081</td>\n      <td>1.457738</td>\n      <td>2.973094</td>\n      <td>2.54951</td>\n      <td>2.825269</td>\n      <td>1.581139</td>\n      <td>1.246423</td>\n      <td>1.690309</td>\n    </tr>\n    <tr>\n      <th>min</th>\n      <td>0.000000</td>\n      <td>0.000000</td>\n      <td>0.000000</td>\n      <td>0.000000</td>\n      <td>0.000000</td>\n      <td>0.000000</td>\n      <td>0.000000</td>\n      <td>0.00000</td>\n      <td>0.000000</td>\n      <td>0.000000</td>\n      <td>0.000000</td>\n      <td>0.000000</td>\n    </tr>\n    <tr>\n      <th>25%</th>\n      <td>0.400000</td>\n      <td>1.750000</td>\n      <td>0.000000</td>\n      <td>1.000000</td>\n      <td>0.750000</td>\n      <td>0.000000</td>\n      <td>0.000000</td>\n      <td>0.75000</td>\n      <td>0.000000</td>\n      <td>0.750000</td>\n      <td>0.000000</td>\n      <td>0.750000</td>\n    </tr>\n    <tr>\n      <th>50%</th>\n      <td>0.600000</td>\n      <td>4.000000</td>\n      <td>0.500000</td>\n      <td>1.000000</td>\n      <td>1.500000</td>\n      <td>0.500000</td>\n      <td>1.000000</td>\n      <td>1.00000</td>\n      <td>2.000000</td>\n      <td>2.000000</td>\n      <td>1.000000</td>\n      <td>1.000000</td>\n    </tr>\n    <tr>\n      <th>75%</th>\n      <td>2.075000</td>\n      <td>6.000000</td>\n      <td>1.500000</td>\n      <td>1.250000</td>\n      <td>3.250000</td>\n      <td>2.000000</td>\n      <td>4.250000</td>\n      <td>3.50000</td>\n      <td>2.750000</td>\n      <td>2.000000</td>\n      <td>2.000000</td>\n      <td>1.500000</td>\n    </tr>\n    <tr>\n      <th>max</th>\n      <td>3.500000</td>\n      <td>8.000000</td>\n      <td>4.000000</td>\n      <td>7.000000</td>\n      <td>4.000000</td>\n      <td>4.000000</td>\n      <td>8.000000</td>\n      <td>7.00000</td>\n      <td>8.000000</td>\n      <td>5.000000</td>\n      <td>3.000000</td>\n      <td>5.000000</td>\n    </tr>\n  </tbody>\n</table>\n</div>"
     },
     "execution_count": 7,
     "metadata": {},
     "output_type": "execute_result"
    }
   ],
   "source": [
    "# Вывод статистических сведений о датафрейме\n",
    "dataset.describe()"
   ],
   "metadata": {
    "collapsed": false,
    "ExecuteTime": {
     "end_time": "2024-08-16T10:19:11.181616014Z",
     "start_time": "2024-08-16T10:19:11.077461537Z"
    }
   },
   "id": "b764033a4ff5e90c",
   "execution_count": 7
  },
  {
   "cell_type": "code",
   "outputs": [
    {
     "ename": "KeyError",
     "evalue": "'Average'",
     "output_type": "error",
     "traceback": [
      "\u001B[0;31m---------------------------------------------------------------------------\u001B[0m",
      "\u001B[0;31mKeyError\u001B[0m                                  Traceback (most recent call last)",
      "File \u001B[0;32m~/.local/lib/python3.10/site-packages/pandas/core/indexes/base.py:3805\u001B[0m, in \u001B[0;36mIndex.get_loc\u001B[0;34m(self, key)\u001B[0m\n\u001B[1;32m   3804\u001B[0m \u001B[38;5;28;01mtry\u001B[39;00m:\n\u001B[0;32m-> 3805\u001B[0m     \u001B[38;5;28;01mreturn\u001B[39;00m \u001B[38;5;28;43mself\u001B[39;49m\u001B[38;5;241;43m.\u001B[39;49m\u001B[43m_engine\u001B[49m\u001B[38;5;241;43m.\u001B[39;49m\u001B[43mget_loc\u001B[49m\u001B[43m(\u001B[49m\u001B[43mcasted_key\u001B[49m\u001B[43m)\u001B[49m\n\u001B[1;32m   3806\u001B[0m \u001B[38;5;28;01mexcept\u001B[39;00m \u001B[38;5;167;01mKeyError\u001B[39;00m \u001B[38;5;28;01mas\u001B[39;00m err:\n",
      "File \u001B[0;32mindex.pyx:167\u001B[0m, in \u001B[0;36mpandas._libs.index.IndexEngine.get_loc\u001B[0;34m()\u001B[0m\n",
      "File \u001B[0;32mindex.pyx:196\u001B[0m, in \u001B[0;36mpandas._libs.index.IndexEngine.get_loc\u001B[0;34m()\u001B[0m\n",
      "File \u001B[0;32mpandas/_libs/hashtable_class_helper.pxi:7081\u001B[0m, in \u001B[0;36mpandas._libs.hashtable.PyObjectHashTable.get_item\u001B[0;34m()\u001B[0m\n",
      "File \u001B[0;32mpandas/_libs/hashtable_class_helper.pxi:7089\u001B[0m, in \u001B[0;36mpandas._libs.hashtable.PyObjectHashTable.get_item\u001B[0;34m()\u001B[0m\n",
      "\u001B[0;31mKeyError\u001B[0m: 'Average'",
      "\nThe above exception was the direct cause of the following exception:\n",
      "\u001B[0;31mKeyError\u001B[0m                                  Traceback (most recent call last)",
      "Cell \u001B[0;32mIn[11], line 2\u001B[0m\n\u001B[1;32m      1\u001B[0m \u001B[38;5;66;03m# Создание списка или объекта Series на основе значений столбца\u001B[39;00m\n\u001B[0;32m----> 2\u001B[0m lost_average \u001B[38;5;241m=\u001B[39m \u001B[43mdataset_copy\u001B[49m\u001B[43m[\u001B[49m\u001B[38;5;124;43m\"\u001B[39;49m\u001B[38;5;124;43mAverage\u001B[39;49m\u001B[38;5;124;43m\"\u001B[39;49m\u001B[43m]\u001B[49m\u001B[38;5;241m.\u001B[39mtolist()\n",
      "File \u001B[0;32m~/.local/lib/python3.10/site-packages/pandas/core/frame.py:4102\u001B[0m, in \u001B[0;36mDataFrame.__getitem__\u001B[0;34m(self, key)\u001B[0m\n\u001B[1;32m   4100\u001B[0m \u001B[38;5;28;01mif\u001B[39;00m \u001B[38;5;28mself\u001B[39m\u001B[38;5;241m.\u001B[39mcolumns\u001B[38;5;241m.\u001B[39mnlevels \u001B[38;5;241m>\u001B[39m \u001B[38;5;241m1\u001B[39m:\n\u001B[1;32m   4101\u001B[0m     \u001B[38;5;28;01mreturn\u001B[39;00m \u001B[38;5;28mself\u001B[39m\u001B[38;5;241m.\u001B[39m_getitem_multilevel(key)\n\u001B[0;32m-> 4102\u001B[0m indexer \u001B[38;5;241m=\u001B[39m \u001B[38;5;28;43mself\u001B[39;49m\u001B[38;5;241;43m.\u001B[39;49m\u001B[43mcolumns\u001B[49m\u001B[38;5;241;43m.\u001B[39;49m\u001B[43mget_loc\u001B[49m\u001B[43m(\u001B[49m\u001B[43mkey\u001B[49m\u001B[43m)\u001B[49m\n\u001B[1;32m   4103\u001B[0m \u001B[38;5;28;01mif\u001B[39;00m is_integer(indexer):\n\u001B[1;32m   4104\u001B[0m     indexer \u001B[38;5;241m=\u001B[39m [indexer]\n",
      "File \u001B[0;32m~/.local/lib/python3.10/site-packages/pandas/core/indexes/base.py:3812\u001B[0m, in \u001B[0;36mIndex.get_loc\u001B[0;34m(self, key)\u001B[0m\n\u001B[1;32m   3807\u001B[0m     \u001B[38;5;28;01mif\u001B[39;00m \u001B[38;5;28misinstance\u001B[39m(casted_key, \u001B[38;5;28mslice\u001B[39m) \u001B[38;5;129;01mor\u001B[39;00m (\n\u001B[1;32m   3808\u001B[0m         \u001B[38;5;28misinstance\u001B[39m(casted_key, abc\u001B[38;5;241m.\u001B[39mIterable)\n\u001B[1;32m   3809\u001B[0m         \u001B[38;5;129;01mand\u001B[39;00m \u001B[38;5;28many\u001B[39m(\u001B[38;5;28misinstance\u001B[39m(x, \u001B[38;5;28mslice\u001B[39m) \u001B[38;5;28;01mfor\u001B[39;00m x \u001B[38;5;129;01min\u001B[39;00m casted_key)\n\u001B[1;32m   3810\u001B[0m     ):\n\u001B[1;32m   3811\u001B[0m         \u001B[38;5;28;01mraise\u001B[39;00m InvalidIndexError(key)\n\u001B[0;32m-> 3812\u001B[0m     \u001B[38;5;28;01mraise\u001B[39;00m \u001B[38;5;167;01mKeyError\u001B[39;00m(key) \u001B[38;5;28;01mfrom\u001B[39;00m \u001B[38;5;21;01merr\u001B[39;00m\n\u001B[1;32m   3813\u001B[0m \u001B[38;5;28;01mexcept\u001B[39;00m \u001B[38;5;167;01mTypeError\u001B[39;00m:\n\u001B[1;32m   3814\u001B[0m     \u001B[38;5;66;03m# If we have a listlike key, _check_indexing_error will raise\u001B[39;00m\n\u001B[1;32m   3815\u001B[0m     \u001B[38;5;66;03m#  InvalidIndexError. Otherwise we fall through and re-raise\u001B[39;00m\n\u001B[1;32m   3816\u001B[0m     \u001B[38;5;66;03m#  the TypeError.\u001B[39;00m\n\u001B[1;32m   3817\u001B[0m     \u001B[38;5;28mself\u001B[39m\u001B[38;5;241m.\u001B[39m_check_indexing_error(key)\n",
      "\u001B[0;31mKeyError\u001B[0m: 'Average'"
     ]
    }
   ],
   "source": [
    "# Создание списка или объекта Series на основе значений столбца\n",
    "list_average = dataset_copy[\"Average\"].tolist()"
   ],
   "metadata": {
    "collapsed": false,
    "ExecuteTime": {
     "end_time": "2024-08-16T10:21:39.641302269Z",
     "start_time": "2024-08-16T10:21:39.030417610Z"
    }
   },
   "id": "d7ade725157f8f08",
   "execution_count": 11
  },
  {
   "cell_type": "code",
   "outputs": [],
   "source": [],
   "metadata": {
    "collapsed": false
   },
   "id": "3f9e4e237b84a863"
  }
 ],
 "metadata": {
  "kernelspec": {
   "display_name": "Python 3",
   "language": "python",
   "name": "python3"
  },
  "language_info": {
   "codemirror_mode": {
    "name": "ipython",
    "version": 2
   },
   "file_extension": ".py",
   "mimetype": "text/x-python",
   "name": "python",
   "nbconvert_exporter": "python",
   "pygments_lexer": "ipython2",
   "version": "2.7.6"
  }
 },
 "nbformat": 4,
 "nbformat_minor": 5
}
